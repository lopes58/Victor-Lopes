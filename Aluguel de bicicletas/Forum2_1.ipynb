{
 "cells": [
  {
   "cell_type": "code",
   "execution_count": 2,
   "id": "bf8816db-1edf-4b52-a33d-4a4598b4aa94",
   "metadata": {},
   "outputs": [
    {
     "name": "stderr",
     "output_type": "stream",
     "text": [
      "Warning message:\n",
      "\"package 'tidyverse' is in use and will not be installed\"\n",
      "Warning message:\n",
      "\"package 'lubridate' is in use and will not be installed\"\n",
      "Installing package into 'C:/Users/lopes/AppData/Local/R/win-library/4.3'\n",
      "(as 'lib' is unspecified)\n",
      "\n"
     ]
    },
    {
     "name": "stdout",
     "output_type": "stream",
     "text": [
      "package 'nnls' successfully unpacked and MD5 sums checked\n",
      "\n",
      "The downloaded binary packages are in\n",
      "\tC:\\Users\\lopes\\AppData\\Local\\Temp\\RtmpI3BQP6\\downloaded_packages\n"
     ]
    }
   ],
   "source": [
    "install.packages(\"tidyverse\")\n",
    "install.packages(\"lubridate\")\n",
    "install.packages(\"nnls\")"
   ]
  },
  {
   "cell_type": "code",
   "execution_count": 23,
   "id": "ec200485-0e03-4504-b1c6-53ded5e00484",
   "metadata": {},
   "outputs": [],
   "source": [
    "library(tidyverse)\n",
    "library(lubridate)\n",
    "library(nnls)"
   ]
  },
  {
   "cell_type": "code",
   "execution_count": 24,
   "id": "edf8fad7-a146-4e80-a187-95f617f676f4",
   "metadata": {},
   "outputs": [
    {
     "data": {
      "text/html": [
       "<table class=\"dataframe\">\n",
       "<caption>A data.frame: 6 × 12</caption>\n",
       "<thead>\n",
       "\t<tr><th></th><th scope=col>datetime</th><th scope=col>season</th><th scope=col>holiday</th><th scope=col>workingday</th><th scope=col>weather</th><th scope=col>temp</th><th scope=col>atemp</th><th scope=col>humidity</th><th scope=col>windspeed</th><th scope=col>casual</th><th scope=col>registered</th><th scope=col>count</th></tr>\n",
       "\t<tr><th></th><th scope=col>&lt;chr&gt;</th><th scope=col>&lt;int&gt;</th><th scope=col>&lt;int&gt;</th><th scope=col>&lt;int&gt;</th><th scope=col>&lt;int&gt;</th><th scope=col>&lt;dbl&gt;</th><th scope=col>&lt;dbl&gt;</th><th scope=col>&lt;int&gt;</th><th scope=col>&lt;dbl&gt;</th><th scope=col>&lt;int&gt;</th><th scope=col>&lt;int&gt;</th><th scope=col>&lt;int&gt;</th></tr>\n",
       "</thead>\n",
       "<tbody>\n",
       "\t<tr><th scope=row>1</th><td>2011-01-01 00:00:00</td><td>1</td><td>0</td><td>0</td><td>1</td><td>9.84</td><td>14.395</td><td>81</td><td>0.0000</td><td>3</td><td>13</td><td>16</td></tr>\n",
       "\t<tr><th scope=row>2</th><td>2011-01-01 01:00:00</td><td>1</td><td>0</td><td>0</td><td>1</td><td>9.02</td><td>13.635</td><td>80</td><td>0.0000</td><td>8</td><td>32</td><td>40</td></tr>\n",
       "\t<tr><th scope=row>3</th><td>2011-01-01 02:00:00</td><td>1</td><td>0</td><td>0</td><td>1</td><td>9.02</td><td>13.635</td><td>80</td><td>0.0000</td><td>5</td><td>27</td><td>32</td></tr>\n",
       "\t<tr><th scope=row>4</th><td>2011-01-01 03:00:00</td><td>1</td><td>0</td><td>0</td><td>1</td><td>9.84</td><td>14.395</td><td>75</td><td>0.0000</td><td>3</td><td>10</td><td>13</td></tr>\n",
       "\t<tr><th scope=row>5</th><td>2011-01-01 04:00:00</td><td>1</td><td>0</td><td>0</td><td>1</td><td>9.84</td><td>14.395</td><td>75</td><td>0.0000</td><td>0</td><td> 1</td><td> 1</td></tr>\n",
       "\t<tr><th scope=row>6</th><td>2011-01-01 05:00:00</td><td>1</td><td>0</td><td>0</td><td>2</td><td>9.84</td><td>12.880</td><td>75</td><td>6.0032</td><td>0</td><td> 1</td><td> 1</td></tr>\n",
       "</tbody>\n",
       "</table>\n"
      ],
      "text/latex": [
       "A data.frame: 6 × 12\n",
       "\\begin{tabular}{r|llllllllllll}\n",
       "  & datetime & season & holiday & workingday & weather & temp & atemp & humidity & windspeed & casual & registered & count\\\\\n",
       "  & <chr> & <int> & <int> & <int> & <int> & <dbl> & <dbl> & <int> & <dbl> & <int> & <int> & <int>\\\\\n",
       "\\hline\n",
       "\t1 & 2011-01-01 00:00:00 & 1 & 0 & 0 & 1 & 9.84 & 14.395 & 81 & 0.0000 & 3 & 13 & 16\\\\\n",
       "\t2 & 2011-01-01 01:00:00 & 1 & 0 & 0 & 1 & 9.02 & 13.635 & 80 & 0.0000 & 8 & 32 & 40\\\\\n",
       "\t3 & 2011-01-01 02:00:00 & 1 & 0 & 0 & 1 & 9.02 & 13.635 & 80 & 0.0000 & 5 & 27 & 32\\\\\n",
       "\t4 & 2011-01-01 03:00:00 & 1 & 0 & 0 & 1 & 9.84 & 14.395 & 75 & 0.0000 & 3 & 10 & 13\\\\\n",
       "\t5 & 2011-01-01 04:00:00 & 1 & 0 & 0 & 1 & 9.84 & 14.395 & 75 & 0.0000 & 0 &  1 &  1\\\\\n",
       "\t6 & 2011-01-01 05:00:00 & 1 & 0 & 0 & 2 & 9.84 & 12.880 & 75 & 6.0032 & 0 &  1 &  1\\\\\n",
       "\\end{tabular}\n"
      ],
      "text/markdown": [
       "\n",
       "A data.frame: 6 × 12\n",
       "\n",
       "| <!--/--> | datetime &lt;chr&gt; | season &lt;int&gt; | holiday &lt;int&gt; | workingday &lt;int&gt; | weather &lt;int&gt; | temp &lt;dbl&gt; | atemp &lt;dbl&gt; | humidity &lt;int&gt; | windspeed &lt;dbl&gt; | casual &lt;int&gt; | registered &lt;int&gt; | count &lt;int&gt; |\n",
       "|---|---|---|---|---|---|---|---|---|---|---|---|---|\n",
       "| 1 | 2011-01-01 00:00:00 | 1 | 0 | 0 | 1 | 9.84 | 14.395 | 81 | 0.0000 | 3 | 13 | 16 |\n",
       "| 2 | 2011-01-01 01:00:00 | 1 | 0 | 0 | 1 | 9.02 | 13.635 | 80 | 0.0000 | 8 | 32 | 40 |\n",
       "| 3 | 2011-01-01 02:00:00 | 1 | 0 | 0 | 1 | 9.02 | 13.635 | 80 | 0.0000 | 5 | 27 | 32 |\n",
       "| 4 | 2011-01-01 03:00:00 | 1 | 0 | 0 | 1 | 9.84 | 14.395 | 75 | 0.0000 | 3 | 10 | 13 |\n",
       "| 5 | 2011-01-01 04:00:00 | 1 | 0 | 0 | 1 | 9.84 | 14.395 | 75 | 0.0000 | 0 |  1 |  1 |\n",
       "| 6 | 2011-01-01 05:00:00 | 1 | 0 | 0 | 2 | 9.84 | 12.880 | 75 | 6.0032 | 0 |  1 |  1 |\n",
       "\n"
      ],
      "text/plain": [
       "  datetime            season holiday workingday weather temp atemp  humidity\n",
       "1 2011-01-01 00:00:00 1      0       0          1       9.84 14.395 81      \n",
       "2 2011-01-01 01:00:00 1      0       0          1       9.02 13.635 80      \n",
       "3 2011-01-01 02:00:00 1      0       0          1       9.02 13.635 80      \n",
       "4 2011-01-01 03:00:00 1      0       0          1       9.84 14.395 75      \n",
       "5 2011-01-01 04:00:00 1      0       0          1       9.84 14.395 75      \n",
       "6 2011-01-01 05:00:00 1      0       0          2       9.84 12.880 75      \n",
       "  windspeed casual registered count\n",
       "1 0.0000    3      13         16   \n",
       "2 0.0000    8      32         40   \n",
       "3 0.0000    5      27         32   \n",
       "4 0.0000    3      10         13   \n",
       "5 0.0000    0       1          1   \n",
       "6 6.0032    0       1          1   "
      ]
     },
     "metadata": {},
     "output_type": "display_data"
    }
   ],
   "source": [
    "dados = read.csv(\"train.csv\")\n",
    "head(dados)"
   ]
  },
  {
   "cell_type": "code",
   "execution_count": 25,
   "id": "eb059667-c3ea-46bb-89cc-93e4276d6b7c",
   "metadata": {},
   "outputs": [
    {
     "data": {
      "text/html": [
       "<table class=\"dataframe\">\n",
       "<caption>A data.frame: 6 × 12</caption>\n",
       "<thead>\n",
       "\t<tr><th></th><th scope=col>datetime</th><th scope=col>season</th><th scope=col>holiday</th><th scope=col>workingday</th><th scope=col>weather</th><th scope=col>temp</th><th scope=col>atemp</th><th scope=col>humidity</th><th scope=col>windspeed</th><th scope=col>casual</th><th scope=col>registered</th><th scope=col>count</th></tr>\n",
       "\t<tr><th></th><th scope=col>&lt;dttm&gt;</th><th scope=col>&lt;int&gt;</th><th scope=col>&lt;int&gt;</th><th scope=col>&lt;int&gt;</th><th scope=col>&lt;int&gt;</th><th scope=col>&lt;dbl&gt;</th><th scope=col>&lt;dbl&gt;</th><th scope=col>&lt;int&gt;</th><th scope=col>&lt;dbl&gt;</th><th scope=col>&lt;int&gt;</th><th scope=col>&lt;int&gt;</th><th scope=col>&lt;int&gt;</th></tr>\n",
       "</thead>\n",
       "<tbody>\n",
       "\t<tr><th scope=row>1</th><td>2011-01-01 00:00:00</td><td>1</td><td>0</td><td>0</td><td>1</td><td>9.84</td><td>14.395</td><td>81</td><td>0.0000</td><td>3</td><td>13</td><td>16</td></tr>\n",
       "\t<tr><th scope=row>2</th><td>2011-01-01 01:00:00</td><td>1</td><td>0</td><td>0</td><td>1</td><td>9.02</td><td>13.635</td><td>80</td><td>0.0000</td><td>8</td><td>32</td><td>40</td></tr>\n",
       "\t<tr><th scope=row>3</th><td>2011-01-01 02:00:00</td><td>1</td><td>0</td><td>0</td><td>1</td><td>9.02</td><td>13.635</td><td>80</td><td>0.0000</td><td>5</td><td>27</td><td>32</td></tr>\n",
       "\t<tr><th scope=row>4</th><td>2011-01-01 03:00:00</td><td>1</td><td>0</td><td>0</td><td>1</td><td>9.84</td><td>14.395</td><td>75</td><td>0.0000</td><td>3</td><td>10</td><td>13</td></tr>\n",
       "\t<tr><th scope=row>5</th><td>2011-01-01 04:00:00</td><td>1</td><td>0</td><td>0</td><td>1</td><td>9.84</td><td>14.395</td><td>75</td><td>0.0000</td><td>0</td><td> 1</td><td> 1</td></tr>\n",
       "\t<tr><th scope=row>6</th><td>2011-01-01 05:00:00</td><td>1</td><td>0</td><td>0</td><td>2</td><td>9.84</td><td>12.880</td><td>75</td><td>6.0032</td><td>0</td><td> 1</td><td> 1</td></tr>\n",
       "</tbody>\n",
       "</table>\n"
      ],
      "text/latex": [
       "A data.frame: 6 × 12\n",
       "\\begin{tabular}{r|llllllllllll}\n",
       "  & datetime & season & holiday & workingday & weather & temp & atemp & humidity & windspeed & casual & registered & count\\\\\n",
       "  & <dttm> & <int> & <int> & <int> & <int> & <dbl> & <dbl> & <int> & <dbl> & <int> & <int> & <int>\\\\\n",
       "\\hline\n",
       "\t1 & 2011-01-01 00:00:00 & 1 & 0 & 0 & 1 & 9.84 & 14.395 & 81 & 0.0000 & 3 & 13 & 16\\\\\n",
       "\t2 & 2011-01-01 01:00:00 & 1 & 0 & 0 & 1 & 9.02 & 13.635 & 80 & 0.0000 & 8 & 32 & 40\\\\\n",
       "\t3 & 2011-01-01 02:00:00 & 1 & 0 & 0 & 1 & 9.02 & 13.635 & 80 & 0.0000 & 5 & 27 & 32\\\\\n",
       "\t4 & 2011-01-01 03:00:00 & 1 & 0 & 0 & 1 & 9.84 & 14.395 & 75 & 0.0000 & 3 & 10 & 13\\\\\n",
       "\t5 & 2011-01-01 04:00:00 & 1 & 0 & 0 & 1 & 9.84 & 14.395 & 75 & 0.0000 & 0 &  1 &  1\\\\\n",
       "\t6 & 2011-01-01 05:00:00 & 1 & 0 & 0 & 2 & 9.84 & 12.880 & 75 & 6.0032 & 0 &  1 &  1\\\\\n",
       "\\end{tabular}\n"
      ],
      "text/markdown": [
       "\n",
       "A data.frame: 6 × 12\n",
       "\n",
       "| <!--/--> | datetime &lt;dttm&gt; | season &lt;int&gt; | holiday &lt;int&gt; | workingday &lt;int&gt; | weather &lt;int&gt; | temp &lt;dbl&gt; | atemp &lt;dbl&gt; | humidity &lt;int&gt; | windspeed &lt;dbl&gt; | casual &lt;int&gt; | registered &lt;int&gt; | count &lt;int&gt; |\n",
       "|---|---|---|---|---|---|---|---|---|---|---|---|---|\n",
       "| 1 | 2011-01-01 00:00:00 | 1 | 0 | 0 | 1 | 9.84 | 14.395 | 81 | 0.0000 | 3 | 13 | 16 |\n",
       "| 2 | 2011-01-01 01:00:00 | 1 | 0 | 0 | 1 | 9.02 | 13.635 | 80 | 0.0000 | 8 | 32 | 40 |\n",
       "| 3 | 2011-01-01 02:00:00 | 1 | 0 | 0 | 1 | 9.02 | 13.635 | 80 | 0.0000 | 5 | 27 | 32 |\n",
       "| 4 | 2011-01-01 03:00:00 | 1 | 0 | 0 | 1 | 9.84 | 14.395 | 75 | 0.0000 | 3 | 10 | 13 |\n",
       "| 5 | 2011-01-01 04:00:00 | 1 | 0 | 0 | 1 | 9.84 | 14.395 | 75 | 0.0000 | 0 |  1 |  1 |\n",
       "| 6 | 2011-01-01 05:00:00 | 1 | 0 | 0 | 2 | 9.84 | 12.880 | 75 | 6.0032 | 0 |  1 |  1 |\n",
       "\n"
      ],
      "text/plain": [
       "  datetime            season holiday workingday weather temp atemp  humidity\n",
       "1 2011-01-01 00:00:00 1      0       0          1       9.84 14.395 81      \n",
       "2 2011-01-01 01:00:00 1      0       0          1       9.02 13.635 80      \n",
       "3 2011-01-01 02:00:00 1      0       0          1       9.02 13.635 80      \n",
       "4 2011-01-01 03:00:00 1      0       0          1       9.84 14.395 75      \n",
       "5 2011-01-01 04:00:00 1      0       0          1       9.84 14.395 75      \n",
       "6 2011-01-01 05:00:00 1      0       0          2       9.84 12.880 75      \n",
       "  windspeed casual registered count\n",
       "1 0.0000    3      13         16   \n",
       "2 0.0000    8      32         40   \n",
       "3 0.0000    5      27         32   \n",
       "4 0.0000    3      10         13   \n",
       "5 0.0000    0       1          1   \n",
       "6 6.0032    0       1          1   "
      ]
     },
     "metadata": {},
     "output_type": "display_data"
    }
   ],
   "source": [
    "dados$datetime <- ymd_hms(dados$datetime)\n",
    "head(dados)"
   ]
  },
  {
   "cell_type": "code",
   "execution_count": 26,
   "id": "7befdef2-d8d5-4ba8-b0c8-f378bd0e559b",
   "metadata": {},
   "outputs": [
    {
     "data": {
      "text/html": [
       "<table class=\"dataframe\">\n",
       "<caption>A data.frame: 6 × 18</caption>\n",
       "<thead>\n",
       "\t<tr><th></th><th scope=col>datetime</th><th scope=col>season</th><th scope=col>holiday</th><th scope=col>workingday</th><th scope=col>weather</th><th scope=col>temp</th><th scope=col>atemp</th><th scope=col>humidity</th><th scope=col>windspeed</th><th scope=col>casual</th><th scope=col>registered</th><th scope=col>count</th><th scope=col>year</th><th scope=col>month</th><th scope=col>day</th><th scope=col>hour</th><th scope=col>weekday</th><th scope=col>period</th></tr>\n",
       "\t<tr><th></th><th scope=col>&lt;dttm&gt;</th><th scope=col>&lt;fct&gt;</th><th scope=col>&lt;int&gt;</th><th scope=col>&lt;int&gt;</th><th scope=col>&lt;fct&gt;</th><th scope=col>&lt;dbl&gt;</th><th scope=col>&lt;dbl&gt;</th><th scope=col>&lt;int&gt;</th><th scope=col>&lt;dbl&gt;</th><th scope=col>&lt;int&gt;</th><th scope=col>&lt;int&gt;</th><th scope=col>&lt;int&gt;</th><th scope=col>&lt;dbl&gt;</th><th scope=col>&lt;dbl&gt;</th><th scope=col>&lt;int&gt;</th><th scope=col>&lt;int&gt;</th><th scope=col>&lt;fct&gt;</th><th scope=col>&lt;fct&gt;</th></tr>\n",
       "</thead>\n",
       "<tbody>\n",
       "\t<tr><th scope=row>1</th><td>2011-01-01 00:00:00</td><td>1</td><td>0</td><td>0</td><td>1</td><td>9.84</td><td>14.395</td><td>81</td><td>0.0000</td><td>3</td><td>13</td><td>16</td><td>2011</td><td>1</td><td>1</td><td>0</td><td>Saturday</td><td>Madrugada</td></tr>\n",
       "\t<tr><th scope=row>2</th><td>2011-01-01 01:00:00</td><td>1</td><td>0</td><td>0</td><td>1</td><td>9.02</td><td>13.635</td><td>80</td><td>0.0000</td><td>8</td><td>32</td><td>40</td><td>2011</td><td>1</td><td>1</td><td>1</td><td>Saturday</td><td>Madrugada</td></tr>\n",
       "\t<tr><th scope=row>3</th><td>2011-01-01 02:00:00</td><td>1</td><td>0</td><td>0</td><td>1</td><td>9.02</td><td>13.635</td><td>80</td><td>0.0000</td><td>5</td><td>27</td><td>32</td><td>2011</td><td>1</td><td>1</td><td>2</td><td>Saturday</td><td>Madrugada</td></tr>\n",
       "\t<tr><th scope=row>4</th><td>2011-01-01 03:00:00</td><td>1</td><td>0</td><td>0</td><td>1</td><td>9.84</td><td>14.395</td><td>75</td><td>0.0000</td><td>3</td><td>10</td><td>13</td><td>2011</td><td>1</td><td>1</td><td>3</td><td>Saturday</td><td>Madrugada</td></tr>\n",
       "\t<tr><th scope=row>5</th><td>2011-01-01 04:00:00</td><td>1</td><td>0</td><td>0</td><td>1</td><td>9.84</td><td>14.395</td><td>75</td><td>0.0000</td><td>0</td><td> 1</td><td> 1</td><td>2011</td><td>1</td><td>1</td><td>4</td><td>Saturday</td><td>Madrugada</td></tr>\n",
       "\t<tr><th scope=row>6</th><td>2011-01-01 05:00:00</td><td>1</td><td>0</td><td>0</td><td>2</td><td>9.84</td><td>12.880</td><td>75</td><td>6.0032</td><td>0</td><td> 1</td><td> 1</td><td>2011</td><td>1</td><td>1</td><td>5</td><td>Saturday</td><td>Madrugada</td></tr>\n",
       "</tbody>\n",
       "</table>\n"
      ],
      "text/latex": [
       "A data.frame: 6 × 18\n",
       "\\begin{tabular}{r|llllllllllllllllll}\n",
       "  & datetime & season & holiday & workingday & weather & temp & atemp & humidity & windspeed & casual & registered & count & year & month & day & hour & weekday & period\\\\\n",
       "  & <dttm> & <fct> & <int> & <int> & <fct> & <dbl> & <dbl> & <int> & <dbl> & <int> & <int> & <int> & <dbl> & <dbl> & <int> & <int> & <fct> & <fct>\\\\\n",
       "\\hline\n",
       "\t1 & 2011-01-01 00:00:00 & 1 & 0 & 0 & 1 & 9.84 & 14.395 & 81 & 0.0000 & 3 & 13 & 16 & 2011 & 1 & 1 & 0 & Saturday & Madrugada\\\\\n",
       "\t2 & 2011-01-01 01:00:00 & 1 & 0 & 0 & 1 & 9.02 & 13.635 & 80 & 0.0000 & 8 & 32 & 40 & 2011 & 1 & 1 & 1 & Saturday & Madrugada\\\\\n",
       "\t3 & 2011-01-01 02:00:00 & 1 & 0 & 0 & 1 & 9.02 & 13.635 & 80 & 0.0000 & 5 & 27 & 32 & 2011 & 1 & 1 & 2 & Saturday & Madrugada\\\\\n",
       "\t4 & 2011-01-01 03:00:00 & 1 & 0 & 0 & 1 & 9.84 & 14.395 & 75 & 0.0000 & 3 & 10 & 13 & 2011 & 1 & 1 & 3 & Saturday & Madrugada\\\\\n",
       "\t5 & 2011-01-01 04:00:00 & 1 & 0 & 0 & 1 & 9.84 & 14.395 & 75 & 0.0000 & 0 &  1 &  1 & 2011 & 1 & 1 & 4 & Saturday & Madrugada\\\\\n",
       "\t6 & 2011-01-01 05:00:00 & 1 & 0 & 0 & 2 & 9.84 & 12.880 & 75 & 6.0032 & 0 &  1 &  1 & 2011 & 1 & 1 & 5 & Saturday & Madrugada\\\\\n",
       "\\end{tabular}\n"
      ],
      "text/markdown": [
       "\n",
       "A data.frame: 6 × 18\n",
       "\n",
       "| <!--/--> | datetime &lt;dttm&gt; | season &lt;fct&gt; | holiday &lt;int&gt; | workingday &lt;int&gt; | weather &lt;fct&gt; | temp &lt;dbl&gt; | atemp &lt;dbl&gt; | humidity &lt;int&gt; | windspeed &lt;dbl&gt; | casual &lt;int&gt; | registered &lt;int&gt; | count &lt;int&gt; | year &lt;dbl&gt; | month &lt;dbl&gt; | day &lt;int&gt; | hour &lt;int&gt; | weekday &lt;fct&gt; | period &lt;fct&gt; |\n",
       "|---|---|---|---|---|---|---|---|---|---|---|---|---|---|---|---|---|---|---|\n",
       "| 1 | 2011-01-01 00:00:00 | 1 | 0 | 0 | 1 | 9.84 | 14.395 | 81 | 0.0000 | 3 | 13 | 16 | 2011 | 1 | 1 | 0 | Saturday | Madrugada |\n",
       "| 2 | 2011-01-01 01:00:00 | 1 | 0 | 0 | 1 | 9.02 | 13.635 | 80 | 0.0000 | 8 | 32 | 40 | 2011 | 1 | 1 | 1 | Saturday | Madrugada |\n",
       "| 3 | 2011-01-01 02:00:00 | 1 | 0 | 0 | 1 | 9.02 | 13.635 | 80 | 0.0000 | 5 | 27 | 32 | 2011 | 1 | 1 | 2 | Saturday | Madrugada |\n",
       "| 4 | 2011-01-01 03:00:00 | 1 | 0 | 0 | 1 | 9.84 | 14.395 | 75 | 0.0000 | 3 | 10 | 13 | 2011 | 1 | 1 | 3 | Saturday | Madrugada |\n",
       "| 5 | 2011-01-01 04:00:00 | 1 | 0 | 0 | 1 | 9.84 | 14.395 | 75 | 0.0000 | 0 |  1 |  1 | 2011 | 1 | 1 | 4 | Saturday | Madrugada |\n",
       "| 6 | 2011-01-01 05:00:00 | 1 | 0 | 0 | 2 | 9.84 | 12.880 | 75 | 6.0032 | 0 |  1 |  1 | 2011 | 1 | 1 | 5 | Saturday | Madrugada |\n",
       "\n"
      ],
      "text/plain": [
       "  datetime            season holiday workingday weather temp atemp  humidity\n",
       "1 2011-01-01 00:00:00 1      0       0          1       9.84 14.395 81      \n",
       "2 2011-01-01 01:00:00 1      0       0          1       9.02 13.635 80      \n",
       "3 2011-01-01 02:00:00 1      0       0          1       9.02 13.635 80      \n",
       "4 2011-01-01 03:00:00 1      0       0          1       9.84 14.395 75      \n",
       "5 2011-01-01 04:00:00 1      0       0          1       9.84 14.395 75      \n",
       "6 2011-01-01 05:00:00 1      0       0          2       9.84 12.880 75      \n",
       "  windspeed casual registered count year month day hour weekday  period   \n",
       "1 0.0000    3      13         16    2011 1     1   0    Saturday Madrugada\n",
       "2 0.0000    8      32         40    2011 1     1   1    Saturday Madrugada\n",
       "3 0.0000    5      27         32    2011 1     1   2    Saturday Madrugada\n",
       "4 0.0000    3      10         13    2011 1     1   3    Saturday Madrugada\n",
       "5 0.0000    0       1          1    2011 1     1   4    Saturday Madrugada\n",
       "6 6.0032    0       1          1    2011 1     1   5    Saturday Madrugada"
      ]
     },
     "metadata": {},
     "output_type": "display_data"
    }
   ],
   "source": [
    "dados$year <- year(dados$datetime)\n",
    "dados$month <- month(dados$datetime)\n",
    "dados$day <- day(dados$datetime)\n",
    "dados$hour <- hour(dados$datetime)\n",
    "dados$weekday <- factor(weekdays(dados$datetime))\n",
    "dados$period <- factor(cut(dados$hour, \n",
    "                   breaks = c(-1, 5, 11, 17, 23), \n",
    "                   labels = c(\"Madrugada\", \"Manhã\", \"Tarde\", \"Noite\")))\n",
    "dados$season <- factor(dados$season)\n",
    "dados$weather <- factor(dados$weather)\n",
    "head(dados)"
   ]
  },
  {
   "cell_type": "code",
   "execution_count": 27,
   "id": "581556cb-359a-442e-8e81-b1c752e6211e",
   "metadata": {},
   "outputs": [],
   "source": [
    "#Separação entre treino e teste para a regressão\n",
    "set.seed(1)\n",
    "sample <- sample(c(TRUE, FALSE), nrow(dados), replace=TRUE, prob=c(0.7,0.3))\n",
    "treino  <- dados[sample, ]\n",
    "teste   <- dados[!sample, ]"
   ]
  },
  {
   "cell_type": "code",
   "execution_count": 28,
   "id": "4a7ad10c-b5a9-45ee-b4df-5d9c7bc70bec",
   "metadata": {},
   "outputs": [
    {
     "data": {
      "text/html": [
       "<table class=\"dataframe\">\n",
       "<caption>A data.frame: 6 × 9</caption>\n",
       "<thead>\n",
       "\t<tr><th></th><th scope=col>datetime</th><th scope=col>season</th><th scope=col>holiday</th><th scope=col>workingday</th><th scope=col>weather</th><th scope=col>temp</th><th scope=col>atemp</th><th scope=col>humidity</th><th scope=col>windspeed</th></tr>\n",
       "\t<tr><th></th><th scope=col>&lt;chr&gt;</th><th scope=col>&lt;int&gt;</th><th scope=col>&lt;int&gt;</th><th scope=col>&lt;int&gt;</th><th scope=col>&lt;int&gt;</th><th scope=col>&lt;dbl&gt;</th><th scope=col>&lt;dbl&gt;</th><th scope=col>&lt;int&gt;</th><th scope=col>&lt;dbl&gt;</th></tr>\n",
       "</thead>\n",
       "<tbody>\n",
       "\t<tr><th scope=row>1</th><td>2011-01-20 00:00:00</td><td>1</td><td>0</td><td>1</td><td>1</td><td>10.66</td><td>11.365</td><td>56</td><td>26.0027</td></tr>\n",
       "\t<tr><th scope=row>2</th><td>2011-01-20 01:00:00</td><td>1</td><td>0</td><td>1</td><td>1</td><td>10.66</td><td>13.635</td><td>56</td><td> 0.0000</td></tr>\n",
       "\t<tr><th scope=row>3</th><td>2011-01-20 02:00:00</td><td>1</td><td>0</td><td>1</td><td>1</td><td>10.66</td><td>13.635</td><td>56</td><td> 0.0000</td></tr>\n",
       "\t<tr><th scope=row>4</th><td>2011-01-20 03:00:00</td><td>1</td><td>0</td><td>1</td><td>1</td><td>10.66</td><td>12.880</td><td>56</td><td>11.0014</td></tr>\n",
       "\t<tr><th scope=row>5</th><td>2011-01-20 04:00:00</td><td>1</td><td>0</td><td>1</td><td>1</td><td>10.66</td><td>12.880</td><td>56</td><td>11.0014</td></tr>\n",
       "\t<tr><th scope=row>6</th><td>2011-01-20 05:00:00</td><td>1</td><td>0</td><td>1</td><td>1</td><td> 9.84</td><td>11.365</td><td>60</td><td>15.0013</td></tr>\n",
       "</tbody>\n",
       "</table>\n"
      ],
      "text/latex": [
       "A data.frame: 6 × 9\n",
       "\\begin{tabular}{r|lllllllll}\n",
       "  & datetime & season & holiday & workingday & weather & temp & atemp & humidity & windspeed\\\\\n",
       "  & <chr> & <int> & <int> & <int> & <int> & <dbl> & <dbl> & <int> & <dbl>\\\\\n",
       "\\hline\n",
       "\t1 & 2011-01-20 00:00:00 & 1 & 0 & 1 & 1 & 10.66 & 11.365 & 56 & 26.0027\\\\\n",
       "\t2 & 2011-01-20 01:00:00 & 1 & 0 & 1 & 1 & 10.66 & 13.635 & 56 &  0.0000\\\\\n",
       "\t3 & 2011-01-20 02:00:00 & 1 & 0 & 1 & 1 & 10.66 & 13.635 & 56 &  0.0000\\\\\n",
       "\t4 & 2011-01-20 03:00:00 & 1 & 0 & 1 & 1 & 10.66 & 12.880 & 56 & 11.0014\\\\\n",
       "\t5 & 2011-01-20 04:00:00 & 1 & 0 & 1 & 1 & 10.66 & 12.880 & 56 & 11.0014\\\\\n",
       "\t6 & 2011-01-20 05:00:00 & 1 & 0 & 1 & 1 &  9.84 & 11.365 & 60 & 15.0013\\\\\n",
       "\\end{tabular}\n"
      ],
      "text/markdown": [
       "\n",
       "A data.frame: 6 × 9\n",
       "\n",
       "| <!--/--> | datetime &lt;chr&gt; | season &lt;int&gt; | holiday &lt;int&gt; | workingday &lt;int&gt; | weather &lt;int&gt; | temp &lt;dbl&gt; | atemp &lt;dbl&gt; | humidity &lt;int&gt; | windspeed &lt;dbl&gt; |\n",
       "|---|---|---|---|---|---|---|---|---|---|\n",
       "| 1 | 2011-01-20 00:00:00 | 1 | 0 | 1 | 1 | 10.66 | 11.365 | 56 | 26.0027 |\n",
       "| 2 | 2011-01-20 01:00:00 | 1 | 0 | 1 | 1 | 10.66 | 13.635 | 56 |  0.0000 |\n",
       "| 3 | 2011-01-20 02:00:00 | 1 | 0 | 1 | 1 | 10.66 | 13.635 | 56 |  0.0000 |\n",
       "| 4 | 2011-01-20 03:00:00 | 1 | 0 | 1 | 1 | 10.66 | 12.880 | 56 | 11.0014 |\n",
       "| 5 | 2011-01-20 04:00:00 | 1 | 0 | 1 | 1 | 10.66 | 12.880 | 56 | 11.0014 |\n",
       "| 6 | 2011-01-20 05:00:00 | 1 | 0 | 1 | 1 |  9.84 | 11.365 | 60 | 15.0013 |\n",
       "\n"
      ],
      "text/plain": [
       "  datetime            season holiday workingday weather temp  atemp  humidity\n",
       "1 2011-01-20 00:00:00 1      0       1          1       10.66 11.365 56      \n",
       "2 2011-01-20 01:00:00 1      0       1          1       10.66 13.635 56      \n",
       "3 2011-01-20 02:00:00 1      0       1          1       10.66 13.635 56      \n",
       "4 2011-01-20 03:00:00 1      0       1          1       10.66 12.880 56      \n",
       "5 2011-01-20 04:00:00 1      0       1          1       10.66 12.880 56      \n",
       "6 2011-01-20 05:00:00 1      0       1          1        9.84 11.365 60      \n",
       "  windspeed\n",
       "1 26.0027  \n",
       "2  0.0000  \n",
       "3  0.0000  \n",
       "4 11.0014  \n",
       "5 11.0014  \n",
       "6 15.0013  "
      ]
     },
     "metadata": {},
     "output_type": "display_data"
    }
   ],
   "source": [
    "validacao <- read.csv(\"test.csv\")\n",
    "head(validacao)"
   ]
  },
  {
   "cell_type": "code",
   "execution_count": 29,
   "id": "c6d5c59c-2913-4419-aac8-56f8732488de",
   "metadata": {},
   "outputs": [
    {
     "data": {
      "text/html": [
       "<table class=\"dataframe\">\n",
       "<caption>A data.frame: 6 × 9</caption>\n",
       "<thead>\n",
       "\t<tr><th></th><th scope=col>datetime</th><th scope=col>season</th><th scope=col>holiday</th><th scope=col>workingday</th><th scope=col>weather</th><th scope=col>temp</th><th scope=col>atemp</th><th scope=col>humidity</th><th scope=col>windspeed</th></tr>\n",
       "\t<tr><th></th><th scope=col>&lt;dttm&gt;</th><th scope=col>&lt;int&gt;</th><th scope=col>&lt;int&gt;</th><th scope=col>&lt;int&gt;</th><th scope=col>&lt;int&gt;</th><th scope=col>&lt;dbl&gt;</th><th scope=col>&lt;dbl&gt;</th><th scope=col>&lt;int&gt;</th><th scope=col>&lt;dbl&gt;</th></tr>\n",
       "</thead>\n",
       "<tbody>\n",
       "\t<tr><th scope=row>1</th><td>2011-01-20 00:00:00</td><td>1</td><td>0</td><td>1</td><td>1</td><td>10.66</td><td>11.365</td><td>56</td><td>26.0027</td></tr>\n",
       "\t<tr><th scope=row>2</th><td>2011-01-20 01:00:00</td><td>1</td><td>0</td><td>1</td><td>1</td><td>10.66</td><td>13.635</td><td>56</td><td> 0.0000</td></tr>\n",
       "\t<tr><th scope=row>3</th><td>2011-01-20 02:00:00</td><td>1</td><td>0</td><td>1</td><td>1</td><td>10.66</td><td>13.635</td><td>56</td><td> 0.0000</td></tr>\n",
       "\t<tr><th scope=row>4</th><td>2011-01-20 03:00:00</td><td>1</td><td>0</td><td>1</td><td>1</td><td>10.66</td><td>12.880</td><td>56</td><td>11.0014</td></tr>\n",
       "\t<tr><th scope=row>5</th><td>2011-01-20 04:00:00</td><td>1</td><td>0</td><td>1</td><td>1</td><td>10.66</td><td>12.880</td><td>56</td><td>11.0014</td></tr>\n",
       "\t<tr><th scope=row>6</th><td>2011-01-20 05:00:00</td><td>1</td><td>0</td><td>1</td><td>1</td><td> 9.84</td><td>11.365</td><td>60</td><td>15.0013</td></tr>\n",
       "</tbody>\n",
       "</table>\n"
      ],
      "text/latex": [
       "A data.frame: 6 × 9\n",
       "\\begin{tabular}{r|lllllllll}\n",
       "  & datetime & season & holiday & workingday & weather & temp & atemp & humidity & windspeed\\\\\n",
       "  & <dttm> & <int> & <int> & <int> & <int> & <dbl> & <dbl> & <int> & <dbl>\\\\\n",
       "\\hline\n",
       "\t1 & 2011-01-20 00:00:00 & 1 & 0 & 1 & 1 & 10.66 & 11.365 & 56 & 26.0027\\\\\n",
       "\t2 & 2011-01-20 01:00:00 & 1 & 0 & 1 & 1 & 10.66 & 13.635 & 56 &  0.0000\\\\\n",
       "\t3 & 2011-01-20 02:00:00 & 1 & 0 & 1 & 1 & 10.66 & 13.635 & 56 &  0.0000\\\\\n",
       "\t4 & 2011-01-20 03:00:00 & 1 & 0 & 1 & 1 & 10.66 & 12.880 & 56 & 11.0014\\\\\n",
       "\t5 & 2011-01-20 04:00:00 & 1 & 0 & 1 & 1 & 10.66 & 12.880 & 56 & 11.0014\\\\\n",
       "\t6 & 2011-01-20 05:00:00 & 1 & 0 & 1 & 1 &  9.84 & 11.365 & 60 & 15.0013\\\\\n",
       "\\end{tabular}\n"
      ],
      "text/markdown": [
       "\n",
       "A data.frame: 6 × 9\n",
       "\n",
       "| <!--/--> | datetime &lt;dttm&gt; | season &lt;int&gt; | holiday &lt;int&gt; | workingday &lt;int&gt; | weather &lt;int&gt; | temp &lt;dbl&gt; | atemp &lt;dbl&gt; | humidity &lt;int&gt; | windspeed &lt;dbl&gt; |\n",
       "|---|---|---|---|---|---|---|---|---|---|\n",
       "| 1 | 2011-01-20 00:00:00 | 1 | 0 | 1 | 1 | 10.66 | 11.365 | 56 | 26.0027 |\n",
       "| 2 | 2011-01-20 01:00:00 | 1 | 0 | 1 | 1 | 10.66 | 13.635 | 56 |  0.0000 |\n",
       "| 3 | 2011-01-20 02:00:00 | 1 | 0 | 1 | 1 | 10.66 | 13.635 | 56 |  0.0000 |\n",
       "| 4 | 2011-01-20 03:00:00 | 1 | 0 | 1 | 1 | 10.66 | 12.880 | 56 | 11.0014 |\n",
       "| 5 | 2011-01-20 04:00:00 | 1 | 0 | 1 | 1 | 10.66 | 12.880 | 56 | 11.0014 |\n",
       "| 6 | 2011-01-20 05:00:00 | 1 | 0 | 1 | 1 |  9.84 | 11.365 | 60 | 15.0013 |\n",
       "\n"
      ],
      "text/plain": [
       "  datetime            season holiday workingday weather temp  atemp  humidity\n",
       "1 2011-01-20 00:00:00 1      0       1          1       10.66 11.365 56      \n",
       "2 2011-01-20 01:00:00 1      0       1          1       10.66 13.635 56      \n",
       "3 2011-01-20 02:00:00 1      0       1          1       10.66 13.635 56      \n",
       "4 2011-01-20 03:00:00 1      0       1          1       10.66 12.880 56      \n",
       "5 2011-01-20 04:00:00 1      0       1          1       10.66 12.880 56      \n",
       "6 2011-01-20 05:00:00 1      0       1          1        9.84 11.365 60      \n",
       "  windspeed\n",
       "1 26.0027  \n",
       "2  0.0000  \n",
       "3  0.0000  \n",
       "4 11.0014  \n",
       "5 11.0014  \n",
       "6 15.0013  "
      ]
     },
     "metadata": {},
     "output_type": "display_data"
    }
   ],
   "source": [
    "validacao$datetime <- ymd_hms(validacao$datetime)\n",
    "head(validacao)"
   ]
  },
  {
   "cell_type": "code",
   "execution_count": 30,
   "id": "88fa1aee-705d-4dbc-9682-a70b7da44a08",
   "metadata": {},
   "outputs": [
    {
     "data": {
      "text/html": [
       "<table class=\"dataframe\">\n",
       "<caption>A data.frame: 6 × 15</caption>\n",
       "<thead>\n",
       "\t<tr><th></th><th scope=col>datetime</th><th scope=col>season</th><th scope=col>holiday</th><th scope=col>workingday</th><th scope=col>weather</th><th scope=col>temp</th><th scope=col>atemp</th><th scope=col>humidity</th><th scope=col>windspeed</th><th scope=col>year</th><th scope=col>month</th><th scope=col>day</th><th scope=col>hour</th><th scope=col>weekday</th><th scope=col>period</th></tr>\n",
       "\t<tr><th></th><th scope=col>&lt;dttm&gt;</th><th scope=col>&lt;fct&gt;</th><th scope=col>&lt;int&gt;</th><th scope=col>&lt;int&gt;</th><th scope=col>&lt;fct&gt;</th><th scope=col>&lt;dbl&gt;</th><th scope=col>&lt;dbl&gt;</th><th scope=col>&lt;int&gt;</th><th scope=col>&lt;dbl&gt;</th><th scope=col>&lt;dbl&gt;</th><th scope=col>&lt;dbl&gt;</th><th scope=col>&lt;int&gt;</th><th scope=col>&lt;int&gt;</th><th scope=col>&lt;fct&gt;</th><th scope=col>&lt;fct&gt;</th></tr>\n",
       "</thead>\n",
       "<tbody>\n",
       "\t<tr><th scope=row>1</th><td>2011-01-20 00:00:00</td><td>1</td><td>0</td><td>1</td><td>1</td><td>10.66</td><td>11.365</td><td>56</td><td>26.0027</td><td>2011</td><td>1</td><td>20</td><td>0</td><td>Thursday</td><td>Madrugada</td></tr>\n",
       "\t<tr><th scope=row>2</th><td>2011-01-20 01:00:00</td><td>1</td><td>0</td><td>1</td><td>1</td><td>10.66</td><td>13.635</td><td>56</td><td> 0.0000</td><td>2011</td><td>1</td><td>20</td><td>1</td><td>Thursday</td><td>Madrugada</td></tr>\n",
       "\t<tr><th scope=row>3</th><td>2011-01-20 02:00:00</td><td>1</td><td>0</td><td>1</td><td>1</td><td>10.66</td><td>13.635</td><td>56</td><td> 0.0000</td><td>2011</td><td>1</td><td>20</td><td>2</td><td>Thursday</td><td>Madrugada</td></tr>\n",
       "\t<tr><th scope=row>4</th><td>2011-01-20 03:00:00</td><td>1</td><td>0</td><td>1</td><td>1</td><td>10.66</td><td>12.880</td><td>56</td><td>11.0014</td><td>2011</td><td>1</td><td>20</td><td>3</td><td>Thursday</td><td>Madrugada</td></tr>\n",
       "\t<tr><th scope=row>5</th><td>2011-01-20 04:00:00</td><td>1</td><td>0</td><td>1</td><td>1</td><td>10.66</td><td>12.880</td><td>56</td><td>11.0014</td><td>2011</td><td>1</td><td>20</td><td>4</td><td>Thursday</td><td>Madrugada</td></tr>\n",
       "\t<tr><th scope=row>6</th><td>2011-01-20 05:00:00</td><td>1</td><td>0</td><td>1</td><td>1</td><td> 9.84</td><td>11.365</td><td>60</td><td>15.0013</td><td>2011</td><td>1</td><td>20</td><td>5</td><td>Thursday</td><td>Madrugada</td></tr>\n",
       "</tbody>\n",
       "</table>\n"
      ],
      "text/latex": [
       "A data.frame: 6 × 15\n",
       "\\begin{tabular}{r|lllllllllllllll}\n",
       "  & datetime & season & holiday & workingday & weather & temp & atemp & humidity & windspeed & year & month & day & hour & weekday & period\\\\\n",
       "  & <dttm> & <fct> & <int> & <int> & <fct> & <dbl> & <dbl> & <int> & <dbl> & <dbl> & <dbl> & <int> & <int> & <fct> & <fct>\\\\\n",
       "\\hline\n",
       "\t1 & 2011-01-20 00:00:00 & 1 & 0 & 1 & 1 & 10.66 & 11.365 & 56 & 26.0027 & 2011 & 1 & 20 & 0 & Thursday & Madrugada\\\\\n",
       "\t2 & 2011-01-20 01:00:00 & 1 & 0 & 1 & 1 & 10.66 & 13.635 & 56 &  0.0000 & 2011 & 1 & 20 & 1 & Thursday & Madrugada\\\\\n",
       "\t3 & 2011-01-20 02:00:00 & 1 & 0 & 1 & 1 & 10.66 & 13.635 & 56 &  0.0000 & 2011 & 1 & 20 & 2 & Thursday & Madrugada\\\\\n",
       "\t4 & 2011-01-20 03:00:00 & 1 & 0 & 1 & 1 & 10.66 & 12.880 & 56 & 11.0014 & 2011 & 1 & 20 & 3 & Thursday & Madrugada\\\\\n",
       "\t5 & 2011-01-20 04:00:00 & 1 & 0 & 1 & 1 & 10.66 & 12.880 & 56 & 11.0014 & 2011 & 1 & 20 & 4 & Thursday & Madrugada\\\\\n",
       "\t6 & 2011-01-20 05:00:00 & 1 & 0 & 1 & 1 &  9.84 & 11.365 & 60 & 15.0013 & 2011 & 1 & 20 & 5 & Thursday & Madrugada\\\\\n",
       "\\end{tabular}\n"
      ],
      "text/markdown": [
       "\n",
       "A data.frame: 6 × 15\n",
       "\n",
       "| <!--/--> | datetime &lt;dttm&gt; | season &lt;fct&gt; | holiday &lt;int&gt; | workingday &lt;int&gt; | weather &lt;fct&gt; | temp &lt;dbl&gt; | atemp &lt;dbl&gt; | humidity &lt;int&gt; | windspeed &lt;dbl&gt; | year &lt;dbl&gt; | month &lt;dbl&gt; | day &lt;int&gt; | hour &lt;int&gt; | weekday &lt;fct&gt; | period &lt;fct&gt; |\n",
       "|---|---|---|---|---|---|---|---|---|---|---|---|---|---|---|---|\n",
       "| 1 | 2011-01-20 00:00:00 | 1 | 0 | 1 | 1 | 10.66 | 11.365 | 56 | 26.0027 | 2011 | 1 | 20 | 0 | Thursday | Madrugada |\n",
       "| 2 | 2011-01-20 01:00:00 | 1 | 0 | 1 | 1 | 10.66 | 13.635 | 56 |  0.0000 | 2011 | 1 | 20 | 1 | Thursday | Madrugada |\n",
       "| 3 | 2011-01-20 02:00:00 | 1 | 0 | 1 | 1 | 10.66 | 13.635 | 56 |  0.0000 | 2011 | 1 | 20 | 2 | Thursday | Madrugada |\n",
       "| 4 | 2011-01-20 03:00:00 | 1 | 0 | 1 | 1 | 10.66 | 12.880 | 56 | 11.0014 | 2011 | 1 | 20 | 3 | Thursday | Madrugada |\n",
       "| 5 | 2011-01-20 04:00:00 | 1 | 0 | 1 | 1 | 10.66 | 12.880 | 56 | 11.0014 | 2011 | 1 | 20 | 4 | Thursday | Madrugada |\n",
       "| 6 | 2011-01-20 05:00:00 | 1 | 0 | 1 | 1 |  9.84 | 11.365 | 60 | 15.0013 | 2011 | 1 | 20 | 5 | Thursday | Madrugada |\n",
       "\n"
      ],
      "text/plain": [
       "  datetime            season holiday workingday weather temp  atemp  humidity\n",
       "1 2011-01-20 00:00:00 1      0       1          1       10.66 11.365 56      \n",
       "2 2011-01-20 01:00:00 1      0       1          1       10.66 13.635 56      \n",
       "3 2011-01-20 02:00:00 1      0       1          1       10.66 13.635 56      \n",
       "4 2011-01-20 03:00:00 1      0       1          1       10.66 12.880 56      \n",
       "5 2011-01-20 04:00:00 1      0       1          1       10.66 12.880 56      \n",
       "6 2011-01-20 05:00:00 1      0       1          1        9.84 11.365 60      \n",
       "  windspeed year month day hour weekday  period   \n",
       "1 26.0027   2011 1     20  0    Thursday Madrugada\n",
       "2  0.0000   2011 1     20  1    Thursday Madrugada\n",
       "3  0.0000   2011 1     20  2    Thursday Madrugada\n",
       "4 11.0014   2011 1     20  3    Thursday Madrugada\n",
       "5 11.0014   2011 1     20  4    Thursday Madrugada\n",
       "6 15.0013   2011 1     20  5    Thursday Madrugada"
      ]
     },
     "metadata": {},
     "output_type": "display_data"
    }
   ],
   "source": [
    "validacao$year <- year(validacao$datetime)\n",
    "validacao$month <- month(validacao$datetime)\n",
    "validacao$day <- day(validacao$datetime)\n",
    "validacao$hour <- hour(validacao$datetime)\n",
    "validacao$weekday <- factor(weekdays(validacao$datetime))\n",
    "validacao$period <- factor(cut(validacao$hour, \n",
    "                   breaks = c(-1, 5, 11, 17, 23), \n",
    "                   labels = c(\"Madrugada\", \"Manhã\", \"Tarde\", \"Noite\")))\n",
    "validacao$season <- factor(validacao$season)\n",
    "validacao$weather <- factor(validacao$weather)\n",
    "head(validacao)"
   ]
  },
  {
   "cell_type": "code",
   "execution_count": 31,
   "id": "5bf4f408-16c2-4998-b30c-43fe8be0186c",
   "metadata": {},
   "outputs": [
    {
     "data": {
      "text/plain": [
       "    datetime                      season      holiday          workingday    \n",
       " Min.   :2011-01-01 00:00:00.00   1:1853   Min.   :0.00000   Min.   :0.0000  \n",
       " 1st Qu.:2011-07-01 17:15:00.00   2:1937   1st Qu.:0.00000   1st Qu.:0.0000  \n",
       " Median :2012-01-02 06:00:00.00   3:1878   Median :0.00000   Median :1.0000  \n",
       " Mean   :2011-12-27 12:09:22.31   4:1912   Mean   :0.02916   Mean   :0.6844  \n",
       " 3rd Qu.:2012-07-01 09:30:00.00            3rd Qu.:0.00000   3rd Qu.:1.0000  \n",
       " Max.   :2012-12-19 22:00:00.00            Max.   :1.00000   Max.   :1.0000  \n",
       "                                                                             \n",
       " weather       temp           atemp          humidity        windspeed     \n",
       " 1:4996   Min.   : 0.82   Min.   : 0.76   Min.   :  0.00   Min.   : 0.000  \n",
       " 2:1980   1st Qu.:13.94   1st Qu.:16.66   1st Qu.: 47.00   1st Qu.: 7.002  \n",
       " 3: 604   Median :20.50   Median :24.24   Median : 62.00   Median :11.001  \n",
       " 4:   0   Mean   :20.23   Mean   :23.68   Mean   : 61.95   Mean   :12.631  \n",
       "          3rd Qu.:26.24   3rd Qu.:31.06   3rd Qu.: 77.00   3rd Qu.:16.998  \n",
       "          Max.   :41.00   Max.   :44.70   Max.   :100.00   Max.   :56.997  \n",
       "                                                                           \n",
       "     casual         registered        count            year     \n",
       " Min.   :  0.00   Min.   :  0.0   Min.   :  1.0   Min.   :2011  \n",
       " 1st Qu.:  4.00   1st Qu.: 36.0   1st Qu.: 43.0   1st Qu.:2011  \n",
       " Median : 17.00   Median :118.0   Median :143.0   Median :2012  \n",
       " Mean   : 35.79   Mean   :157.4   Mean   :193.2   Mean   :2012  \n",
       " 3rd Qu.: 49.00   3rd Qu.:224.0   3rd Qu.:286.0   3rd Qu.:2012  \n",
       " Max.   :361.00   Max.   :886.0   Max.   :977.0   Max.   :2012  \n",
       "                                                                \n",
       "     month             day             hour            weekday    \n",
       " Min.   : 1.000   Min.   : 1.00   Min.   : 0.00   Friday   :1063  \n",
       " 1st Qu.: 4.000   1st Qu.: 5.00   1st Qu.: 6.00   Monday   :1096  \n",
       " Median : 6.500   Median :10.00   Median :12.00   Saturday :1072  \n",
       " Mean   : 6.523   Mean   :10.01   Mean   :11.52   Sunday   :1099  \n",
       " 3rd Qu.:10.000   3rd Qu.:15.00   3rd Qu.:18.00   Thursday :1079  \n",
       " Max.   :12.000   Max.   :19.00   Max.   :23.00   Tuesday  :1086  \n",
       "                                                  Wednesday:1085  \n",
       "       period    \n",
       " Madrugada:1867  \n",
       " Manhã    :1918  \n",
       " Tarde    :1897  \n",
       " Noite    :1898  \n",
       "                 \n",
       "                 \n",
       "                 "
      ]
     },
     "metadata": {},
     "output_type": "display_data"
    }
   ],
   "source": [
    "summary(treino)"
   ]
  },
  {
   "cell_type": "code",
   "execution_count": 32,
   "id": "82c5815c-7507-4dd0-8a33-c1b470836337",
   "metadata": {},
   "outputs": [
    {
     "data": {
      "image/png": "[encoded data removed]",
      "text/plain": [
       "plot without title"
      ]
     },
     "metadata": {
      "image/png": {
       "height": 420,
       "width": 420
      }
     },
     "output_type": "display_data"
    }
   ],
   "source": [
    "plot(treino[ , !(names(treino) %in% (\"datetime\"))])"
   ]
  },
  {
   "cell_type": "markdown",
   "id": "86996b58-45d1-43f2-a874-fb7c94ecd4e3",
   "metadata": {},
   "source": [
    "Percebe-se que as variáveis atemp, registered, season e period são altamente correlacionadas com algumas das variáveis, sendo portanto necessária suas remoções."
   ]
  },
  {
   "cell_type": "code",
   "execution_count": 33,
   "id": "efb8dd2c-e690-4399-bee9-873c0157047d",
   "metadata": {},
   "outputs": [
    {
     "data": {
      "image/png": "[encoded data removed]",
      "text/plain": [
       "plot without title"
      ]
     },
     "metadata": {
      "image/png": {
       "height": 420,
       "width": 420
      }
     },
     "output_type": "display_data"
    }
   ],
   "source": [
    "plot(treino[ , !(names(treino) %in% c(\"atemp\",\"datetime\",\"period\",\"registered\",\"season\"))])"
   ]
  },
  {
   "cell_type": "markdown",
   "id": "e6a2e434-7cd5-4d0c-8bc6-b1a8b10d8a28",
   "metadata": {},
   "source": [
    "Além disso, como deseja-se prever os valores no final de cada mês, não faz sentido em utilizar a variável casual, uma vez que nesses dias são se terá a informação do número de usuários não registrados. "
   ]
  },
  {
   "cell_type": "code",
   "execution_count": 34,
   "id": "309c99c2-d2a2-43fd-8fdf-3d8cce9e1a18",
   "metadata": {},
   "outputs": [
    {
     "data": {
      "text/plain": [
       "\n",
       "Call:\n",
       "lm(formula = count ~ ., data = treino[, !(names(treino) %in% \n",
       "    c(\"atemp\", \"casual\", \"datetime\", \"period\", \"registered\", \n",
       "        \"season\"))])\n",
       "\n",
       "Residuals:\n",
       "    Min      1Q  Median      3Q     Max \n",
       "-316.38  -95.15  -28.23   63.38  644.28 \n",
       "\n",
       "Coefficients: (1 not defined because of singularities)\n",
       "                   Estimate Std. Error t value Pr(>|t|)    \n",
       "(Intercept)      -1.732e+05  6.697e+03 -25.866  < 2e-16 ***\n",
       "holiday           5.436e+00  1.178e+01   0.462   0.6444    \n",
       "workingday        1.281e+01  6.211e+00   2.063   0.0391 *  \n",
       "weather2          3.176e+00  4.022e+00   0.790   0.4298    \n",
       "weather3         -3.530e+01  6.773e+00  -5.212 1.92e-07 ***\n",
       "temp              6.712e+00  2.242e-01  29.936  < 2e-16 ***\n",
       "humidity         -1.900e+00  1.074e-01 -17.682  < 2e-16 ***\n",
       "windspeed         4.576e-01  2.195e-01   2.085   0.0371 *  \n",
       "year              8.613e+01  3.329e+00  25.870  < 2e-16 ***\n",
       "month             7.664e+00  5.144e-01  14.900  < 2e-16 ***\n",
       "day               4.409e-01  3.019e-01   1.461   0.1441    \n",
       "hour              8.121e+00  2.544e-01  31.924  < 2e-16 ***\n",
       "weekdayMonday    -3.802e+00  6.339e+00  -0.600   0.5487    \n",
       "weekdaySaturday   1.366e+01  6.181e+00   2.210   0.0271 *  \n",
       "weekdaySunday            NA         NA      NA       NA    \n",
       "weekdayThursday  -8.482e+00  6.231e+00  -1.361   0.1735    \n",
       "weekdayTuesday   -3.409e+00  6.245e+00  -0.546   0.5851    \n",
       "weekdayWednesday  2.202e+00  6.241e+00   0.353   0.7242    \n",
       "---\n",
       "Signif. codes:  0 '***' 0.001 '**' 0.01 '*' 0.05 '.' 0.1 ' ' 1\n",
       "\n",
       "Residual standard error: 143.9 on 7563 degrees of freedom\n",
       "Multiple R-squared:  0.3888,\tAdjusted R-squared:  0.3875 \n",
       "F-statistic: 300.6 on 16 and 7563 DF,  p-value: < 2.2e-16\n"
      ]
     },
     "metadata": {},
     "output_type": "display_data"
    }
   ],
   "source": [
    "# Treinamento do Modelo de Regressão\n",
    "model = lm(count ~ ., data = treino[ , !(names(treino) %in% c(\"atemp\",\"casual\",\"datetime\",\"period\",\"registered\",\"season\"))])\n",
    "summary(model)"
   ]
  },
  {
   "cell_type": "code",
   "execution_count": 35,
   "id": "ac8d16ba-f7fd-4bb5-8094-e4171b44e8f7",
   "metadata": {},
   "outputs": [
    {
     "data": {
      "text/plain": [
       "\n",
       "Call:\n",
       "lm(formula = count ~ ., data = treino[, !(names(treino) %in% \n",
       "    c(\"atemp\", \"casual\", \"datetime\", \"holiday\", \"period\", \"registered\", \n",
       "        \"season\"))])\n",
       "\n",
       "Residuals:\n",
       "    Min      1Q  Median      3Q     Max \n",
       "-316.38  -95.15  -28.23   63.38  644.28 \n",
       "\n",
       "Coefficients:\n",
       "                   Estimate Std. Error t value Pr(>|t|)    \n",
       "(Intercept)      -1.732e+05  6.697e+03 -25.865  < 2e-16 ***\n",
       "workingday        7.379e+00  1.035e+01   0.713   0.4758    \n",
       "weather2          3.176e+00  4.022e+00   0.790   0.4298    \n",
       "weather3         -3.530e+01  6.773e+00  -5.212 1.92e-07 ***\n",
       "temp              6.712e+00  2.242e-01  29.936  < 2e-16 ***\n",
       "humidity         -1.900e+00  1.074e-01 -17.682  < 2e-16 ***\n",
       "windspeed         4.576e-01  2.195e-01   2.085   0.0371 *  \n",
       "year              8.613e+01  3.329e+00  25.870  < 2e-16 ***\n",
       "month             7.664e+00  5.144e-01  14.900  < 2e-16 ***\n",
       "day               4.409e-01  3.019e-01   1.461   0.1441    \n",
       "hour              8.121e+00  2.544e-01  31.924  < 2e-16 ***\n",
       "weekdayMonday    -3.802e+00  6.339e+00  -0.600   0.5487    \n",
       "weekdaySaturday   8.226e+00  1.180e+01   0.697   0.4856    \n",
       "weekdaySunday    -5.436e+00  1.178e+01  -0.462   0.6444    \n",
       "weekdayThursday  -8.482e+00  6.231e+00  -1.361   0.1735    \n",
       "weekdayTuesday   -3.409e+00  6.245e+00  -0.546   0.5851    \n",
       "weekdayWednesday  2.202e+00  6.241e+00   0.353   0.7242    \n",
       "---\n",
       "Signif. codes:  0 '***' 0.001 '**' 0.01 '*' 0.05 '.' 0.1 ' ' 1\n",
       "\n",
       "Residual standard error: 143.9 on 7563 degrees of freedom\n",
       "Multiple R-squared:  0.3888,\tAdjusted R-squared:  0.3875 \n",
       "F-statistic: 300.6 on 16 and 7563 DF,  p-value: < 2.2e-16\n"
      ]
     },
     "metadata": {},
     "output_type": "display_data"
    }
   ],
   "source": [
    "# Treinamento do Modelo de Regressão somente com variáveis significativas\n",
    "model = lm(count ~ ., data = treino[ , !(names(treino) %in% c(\"atemp\",\"casual\",\"datetime\",\"holiday\",\"period\",\"registered\",\"season\"))])\n",
    "summary(model)"
   ]
  },
  {
   "cell_type": "code",
   "execution_count": 36,
   "id": "5edc5c05-8125-47f1-9937-308799c9354f",
   "metadata": {},
   "outputs": [
    {
     "data": {
      "text/plain": [
       "\n",
       "Call:\n",
       "lm(formula = count ~ ., data = treino[, !(names(treino) %in% \n",
       "    c(\"atemp\", \"casual\", \"datetime\", \"holiday\", \"period\", \"registered\", \n",
       "        \"season\", \"workingday\"))])\n",
       "\n",
       "Residuals:\n",
       "    Min      1Q  Median      3Q     Max \n",
       "-315.21  -95.07  -28.17   63.61  644.29 \n",
       "\n",
       "Coefficients:\n",
       "                   Estimate Std. Error t value Pr(>|t|)    \n",
       "(Intercept)      -1.731e+05  6.696e+03 -25.857  < 2e-16 ***\n",
       "weather2          3.156e+00  4.022e+00   0.785   0.4327    \n",
       "weather3         -3.525e+01  6.772e+00  -5.205 1.99e-07 ***\n",
       "temp              6.713e+00  2.242e-01  29.943  < 2e-16 ***\n",
       "humidity         -1.900e+00  1.074e-01 -17.689  < 2e-16 ***\n",
       "windspeed         4.553e-01  2.195e-01   2.075   0.0381 *  \n",
       "year              8.609e+01  3.329e+00  25.862  < 2e-16 ***\n",
       "month             7.662e+00  5.144e-01  14.896  < 2e-16 ***\n",
       "day               4.458e-01  3.018e-01   1.477   0.1396    \n",
       "hour              8.121e+00  2.544e-01  31.923  < 2e-16 ***\n",
       "weekdayMonday    -4.700e+00  6.212e+00  -0.757   0.4493    \n",
       "weekdaySaturday   1.084e+00  6.232e+00   0.174   0.8619    \n",
       "weekdaySunday    -1.258e+01  6.202e+00  -2.028   0.0426 *  \n",
       "weekdayThursday  -8.246e+00  6.223e+00  -1.325   0.1851    \n",
       "weekdayTuesday   -3.170e+00  6.236e+00  -0.508   0.6112    \n",
       "weekdayWednesday  2.316e+00  6.239e+00   0.371   0.7104    \n",
       "---\n",
       "Signif. codes:  0 '***' 0.001 '**' 0.01 '*' 0.05 '.' 0.1 ' ' 1\n",
       "\n",
       "Residual standard error: 143.9 on 7564 degrees of freedom\n",
       "Multiple R-squared:  0.3887,\tAdjusted R-squared:  0.3875 \n",
       "F-statistic: 320.7 on 15 and 7564 DF,  p-value: < 2.2e-16\n"
      ]
     },
     "metadata": {},
     "output_type": "display_data"
    }
   ],
   "source": [
    "# Treinamento do Modelo de Regressão somente com variáveis significativas\n",
    "model = lm(count ~ ., data = treino[ , !(names(treino) %in% c(\"atemp\",\"casual\",\"datetime\",\"holiday\",\"period\",\"registered\",\"season\",\"workingday\"))])\n",
    "summary(model)"
   ]
  },
  {
   "cell_type": "code",
   "execution_count": 37,
   "id": "cd56c201-50df-4037-9945-557ea651c931",
   "metadata": {},
   "outputs": [
    {
     "data": {
      "text/html": [
       "<style>\n",
       ".dl-inline {width: auto; margin:0; padding: 0}\n",
       ".dl-inline>dt, .dl-inline>dd {float: none; width: auto; display: inline-block}\n",
       ".dl-inline>dt::after {content: \":\\0020\"; padding-right: .5ex}\n",
       ".dl-inline>dt:not(:first-of-type) {padding-left: .5ex}\n",
       "</style><dl class=dl-inline><dt>1</dt><dd>-94.9404750060952</dd><dt>2</dt><dd>-90.4242569079126</dd><dt>3</dt><dd>-82.3035207483983</dd><dt>5</dt><dd>-51.0554042509429</dd><dt>8</dt><dd>-58.6068381159571</dd><dt>9</dt><dd>-18.5724596128411</dd></dl>\n"
      ],
      "text/latex": [
       "\\begin{description*}\n",
       "\\item[1] -94.9404750060952\n",
       "\\item[2] -90.4242569079126\n",
       "\\item[3] -82.3035207483983\n",
       "\\item[5] -51.0554042509429\n",
       "\\item[8] -58.6068381159571\n",
       "\\item[9] -18.5724596128411\n",
       "\\end{description*}\n"
      ],
      "text/markdown": [
       "1\n",
       ":   -94.94047500609522\n",
       ":   -90.42425690791263\n",
       ":   -82.30352074839835\n",
       ":   -51.05540425094298\n",
       ":   -58.60683811595719\n",
       ":   -18.5724596128411\n",
       "\n"
      ],
      "text/plain": [
       "        1         2         3         5         8         9 \n",
       "-94.94048 -90.42426 -82.30352 -51.05540 -58.60684 -18.57246 "
      ]
     },
     "metadata": {},
     "output_type": "display_data"
    }
   ],
   "source": [
    "head(model$fitted.values)"
   ]
  },
  {
   "cell_type": "markdown",
   "id": "a6efc874-f22f-4af7-a614-175581d49e7a",
   "metadata": {},
   "source": [
    "Como existem valores negativos, é necessário utilizar um modelo que garante que os coeficientes sejam positivos."
   ]
  },
  {
   "cell_type": "code",
   "execution_count": 38,
   "id": "46cffbad-01af-4517-af8b-4ae6a168ab0c",
   "metadata": {},
   "outputs": [
    {
     "data": {
      "text/html": [
       "<table class=\"dataframe\">\n",
       "<caption>A matrix: 6 × 10 of type dbl</caption>\n",
       "<thead>\n",
       "\t<tr><th></th><th scope=col>temp</th><th scope=col>humidity</th><th scope=col>windspeed</th><th scope=col>year</th><th scope=col>month</th><th scope=col>day</th><th scope=col>hour</th><th scope=col>weather1</th><th scope=col>weather3</th><th scope=col>dummies_weekday</th></tr>\n",
       "</thead>\n",
       "<tbody>\n",
       "\t<tr><th scope=row>1</th><td>0.2244898</td><td>0.81</td><td>0</td><td>0</td><td>0</td><td>0</td><td>0.00000000</td><td>1</td><td>0</td><td>0</td></tr>\n",
       "\t<tr><th scope=row>2</th><td>0.2040816</td><td>0.80</td><td>0</td><td>0</td><td>0</td><td>0</td><td>0.04347826</td><td>1</td><td>0</td><td>0</td></tr>\n",
       "\t<tr><th scope=row>3</th><td>0.2040816</td><td>0.80</td><td>0</td><td>0</td><td>0</td><td>0</td><td>0.08695652</td><td>1</td><td>0</td><td>0</td></tr>\n",
       "\t<tr><th scope=row>5</th><td>0.2244898</td><td>0.75</td><td>0</td><td>0</td><td>0</td><td>0</td><td>0.17391304</td><td>1</td><td>0</td><td>0</td></tr>\n",
       "\t<tr><th scope=row>8</th><td>0.1836735</td><td>0.86</td><td>0</td><td>0</td><td>0</td><td>0</td><td>0.30434783</td><td>1</td><td>0</td><td>0</td></tr>\n",
       "\t<tr><th scope=row>9</th><td>0.2244898</td><td>0.75</td><td>0</td><td>0</td><td>0</td><td>0</td><td>0.34782609</td><td>1</td><td>0</td><td>0</td></tr>\n",
       "</tbody>\n",
       "</table>\n"
      ],
      "text/latex": [
       "A matrix: 6 × 10 of type dbl\n",
       "\\begin{tabular}{r|llllllllll}\n",
       "  & temp & humidity & windspeed & year & month & day & hour & weather1 & weather3 & dummies\\_weekday\\\\\n",
       "\\hline\n",
       "\t1 & 0.2244898 & 0.81 & 0 & 0 & 0 & 0 & 0.00000000 & 1 & 0 & 0\\\\\n",
       "\t2 & 0.2040816 & 0.80 & 0 & 0 & 0 & 0 & 0.04347826 & 1 & 0 & 0\\\\\n",
       "\t3 & 0.2040816 & 0.80 & 0 & 0 & 0 & 0 & 0.08695652 & 1 & 0 & 0\\\\\n",
       "\t5 & 0.2244898 & 0.75 & 0 & 0 & 0 & 0 & 0.17391304 & 1 & 0 & 0\\\\\n",
       "\t8 & 0.1836735 & 0.86 & 0 & 0 & 0 & 0 & 0.30434783 & 1 & 0 & 0\\\\\n",
       "\t9 & 0.2244898 & 0.75 & 0 & 0 & 0 & 0 & 0.34782609 & 1 & 0 & 0\\\\\n",
       "\\end{tabular}\n"
      ],
      "text/markdown": [
       "\n",
       "A matrix: 6 × 10 of type dbl\n",
       "\n",
       "| <!--/--> | temp | humidity | windspeed | year | month | day | hour | weather1 | weather3 | dummies_weekday |\n",
       "|---|---|---|---|---|---|---|---|---|---|---|\n",
       "| 1 | 0.2244898 | 0.81 | 0 | 0 | 0 | 0 | 0.00000000 | 1 | 0 | 0 |\n",
       "| 2 | 0.2040816 | 0.80 | 0 | 0 | 0 | 0 | 0.04347826 | 1 | 0 | 0 |\n",
       "| 3 | 0.2040816 | 0.80 | 0 | 0 | 0 | 0 | 0.08695652 | 1 | 0 | 0 |\n",
       "| 5 | 0.2244898 | 0.75 | 0 | 0 | 0 | 0 | 0.17391304 | 1 | 0 | 0 |\n",
       "| 8 | 0.1836735 | 0.86 | 0 | 0 | 0 | 0 | 0.30434783 | 1 | 0 | 0 |\n",
       "| 9 | 0.2244898 | 0.75 | 0 | 0 | 0 | 0 | 0.34782609 | 1 | 0 | 0 |\n",
       "\n"
      ],
      "text/plain": [
       "  temp      humidity windspeed year month day hour       weather1 weather3\n",
       "1 0.2244898 0.81     0         0    0     0   0.00000000 1        0       \n",
       "2 0.2040816 0.80     0         0    0     0   0.04347826 1        0       \n",
       "3 0.2040816 0.80     0         0    0     0   0.08695652 1        0       \n",
       "5 0.2244898 0.75     0         0    0     0   0.17391304 1        0       \n",
       "8 0.1836735 0.86     0         0    0     0   0.30434783 1        0       \n",
       "9 0.2244898 0.75     0         0    0     0   0.34782609 1        0       \n",
       "  dummies_weekday\n",
       "1 0              \n",
       "2 0              \n",
       "3 0              \n",
       "5 0              \n",
       "8 0              \n",
       "9 0              "
      ]
     },
     "metadata": {},
     "output_type": "display_data"
    },
    {
     "name": "stdout",
     "output_type": "stream",
     "text": [
      "Nonnegative least squares model\n",
      "x estimates: 164.8411 0 0 69.7078 13.31488 0 164.4377 2.183369 0 0 \n",
      "residual sum-of-squares: 179912125\n",
      "reason terminated: The solution has been computed sucessfully.\n"
     ]
    }
   ],
   "source": [
    "# Criar dummies para a coluna weather\n",
    "dummies_weather <- model.matrix(~ weather - 1, data = treino)\n",
    "\n",
    "# Criar dummy para o domingo\n",
    "dummies_weekday <- ifelse(treino$weekday==\"Sunday\",1,0)\n",
    "\n",
    "# Combinar dummies com o dataframe original\n",
    "treino_dummies <- cbind(treino, dummies_weather,dummies_weekday)\n",
    "\n",
    "# Remover as colunas originais para não ter duplicação\n",
    "treino_dummies <- treino_dummies[, !names(treino_dummies) %in% c(\"weather\",\"weekday\")]\n",
    "\n",
    "# Função para normalizar dados min-max\n",
    "normalizar_min_max <- function(x) {\n",
    "  (x - min(x)) / (max(x) - min(x))\n",
    "}\n",
    "\n",
    "X = apply(as.matrix(treino_dummies[ , !(names(treino_dummies) %in% c(\"atemp\",\"casual\",\"count\",\"datetime\",\"holiday\",\"period\",\"registered\",\"season\",\"weather2\",\"weather4\",\"weekday\",\"workingday\"))]), 2, normalizar_min_max)\n",
    "head(X)\n",
    "# Ajustar o modelo usando nnls para forçar coeficientes positivos\n",
    "model <- nnls(X, treino_dummies$count)\n",
    "print(model)"
   ]
  },
  {
   "cell_type": "code",
   "execution_count": 39,
   "id": "ec91fee6-61f9-45fd-a265-2cfc7beae166",
   "metadata": {},
   "outputs": [
    {
     "data": {
      "text/html": [
       "1.35594257509886"
      ],
      "text/latex": [
       "1.35594257509886"
      ],
      "text/markdown": [
       "1.35594257509886"
      ],
      "text/plain": [
       "[1] 1.355943"
      ]
     },
     "metadata": {},
     "output_type": "display_data"
    }
   ],
   "source": [
    "# Calcular RMSLE no treino\n",
    "n <- nrow(treino_dummies)\n",
    "previsoes <- X %*% coef(model)\n",
    "log_diff <- log(previsoes + 1) - log(treino_dummies$count + 1)\n",
    "rmsle <- sqrt(sum(log_diff^2) / n)\n",
    "rmsle"
   ]
  },
  {
   "cell_type": "code",
   "execution_count": 40,
   "id": "dfef88c3-547f-440c-8b2b-4fdd415f2cd5",
   "metadata": {},
   "outputs": [
    {
     "data": {
      "image/png": "[encoded data removed]",
      "text/plain": [
       "plot without title"
      ]
     },
     "metadata": {
      "image/png": {
       "height": 420,
       "width": 420
      }
     },
     "output_type": "display_data"
    }
   ],
   "source": [
    "plot(model$residuals)"
   ]
  },
  {
   "cell_type": "code",
   "execution_count": 41,
   "id": "90bae149-52a9-414d-b5bf-631c487968ce",
   "metadata": {},
   "outputs": [
    {
     "data": {
      "text/html": [
       "1.37102946064556"
      ],
      "text/latex": [
       "1.37102946064556"
      ],
      "text/markdown": [
       "1.37102946064556"
      ],
      "text/plain": [
       "[1] 1.371029"
      ]
     },
     "metadata": {},
     "output_type": "display_data"
    }
   ],
   "source": [
    "# Criar dummies para a coluna weather\n",
    "dummies_weather <- model.matrix(~ weather - 1, data = teste)\n",
    "\n",
    "# Criar dummy para o domingo\n",
    "dummies_weekday <- ifelse(teste$weekday==\"Sunday\",1,0)\n",
    "\n",
    "# Combinar dummies com o dataframe original\n",
    "teste_dummies <- cbind(teste, dummies_weather,dummies_weekday)\n",
    "\n",
    "# Remover as colunas originais para não ter duplicação\n",
    "teste_dummies <- teste_dummies[, !names(teste_dummies) %in% c(\"weather\",\"weekday\")]\n",
    "\n",
    "X = apply(as.matrix(teste_dummies[ , !(names(teste_dummies) %in% c(\"atemp\",\"casual\",\"count\",\"datetime\",\"holiday\",\"period\",\"registered\",\"season\",\"weather2\",\"weather4\",\"weekday\",\"workingday\"))]), 2, normalizar_min_max)\n",
    "\n",
    "# Calcular RMSLE no teste\n",
    "n <- nrow(teste_dummies)\n",
    "previsoes <- X %*% coef(model)\n",
    "log_diff <- log(previsoes + 1) - log(teste_dummies$count + 1)\n",
    "rmsle <- sqrt(sum(log_diff^2) / n)\n",
    "rmsle"
   ]
  },
  {
   "cell_type": "code",
   "execution_count": 42,
   "id": "3a9e1dc7-1e8b-4843-8e34-cb39bebee5ac",
   "metadata": {},
   "outputs": [],
   "source": [
    "# Criar dummies para a coluna weather\n",
    "dummies_weather <- model.matrix(~ weather - 1, data = validacao)\n",
    "\n",
    "# Criar dummy para o domingo\n",
    "dummies_weekday <- ifelse(validacao$weekday==\"Sunday\",1,0)\n",
    "\n",
    "# Combinar dummies com o dataframe original\n",
    "validacao_dummies <- cbind(validacao, dummies_weather,dummies_weekday)\n",
    "\n",
    "# Remover as colunas originais para não ter duplicação\n",
    "validacao_dummies <- validacao_dummies[, !names(validacao_dummies) %in% c(\"weather\",\"weekday\")]\n",
    "\n",
    "X = as.matrix(validacao_dummies[ , !(names(validacao_dummies) %in% c(\"atemp\",\"casual\",\"count\",\"datetime\",\"holiday\",\"period\",\"registered\",\"season\",\"weather2\",\"weather4\",\"weekday\",\"workingday\"))])\n",
    "\n",
    "validacao$count = as.integer(X %*% coef(model))"
   ]
  },
  {
   "cell_type": "code",
   "execution_count": 43,
   "id": "c17d99e8-a6c1-4218-bff3-3a6bf5058399",
   "metadata": {},
   "outputs": [
    {
     "data": {
      "text/html": [
       "<table class=\"dataframe\">\n",
       "<caption>A data.frame: 6 × 9</caption>\n",
       "<thead>\n",
       "\t<tr><th></th><th scope=col>datetime</th><th scope=col>season</th><th scope=col>holiday</th><th scope=col>workingday</th><th scope=col>temp</th><th scope=col>atemp</th><th scope=col>humidity</th><th scope=col>windspeed</th><th scope=col>count</th></tr>\n",
       "\t<tr><th></th><th scope=col>&lt;dttm&gt;</th><th scope=col>&lt;fct&gt;</th><th scope=col>&lt;int&gt;</th><th scope=col>&lt;int&gt;</th><th scope=col>&lt;dbl&gt;</th><th scope=col>&lt;dbl&gt;</th><th scope=col>&lt;int&gt;</th><th scope=col>&lt;dbl&gt;</th><th scope=col>&lt;int&gt;</th></tr>\n",
       "</thead>\n",
       "<tbody>\n",
       "\t<tr><th scope=row>1</th><td>2011-01-20 00:00:00</td><td>1</td><td>0</td><td>1</td><td>10.66</td><td>11.365</td><td>56</td><td>26.0027</td><td>141955</td></tr>\n",
       "\t<tr><th scope=row>2</th><td>2011-01-20 01:00:00</td><td>1</td><td>0</td><td>1</td><td>10.66</td><td>13.635</td><td>56</td><td> 0.0000</td><td>142119</td></tr>\n",
       "\t<tr><th scope=row>3</th><td>2011-01-20 02:00:00</td><td>1</td><td>0</td><td>1</td><td>10.66</td><td>13.635</td><td>56</td><td> 0.0000</td><td>142283</td></tr>\n",
       "\t<tr><th scope=row>4</th><td>2011-01-20 03:00:00</td><td>1</td><td>0</td><td>1</td><td>10.66</td><td>12.880</td><td>56</td><td>11.0014</td><td>142448</td></tr>\n",
       "\t<tr><th scope=row>5</th><td>2011-01-20 04:00:00</td><td>1</td><td>0</td><td>1</td><td>10.66</td><td>12.880</td><td>56</td><td>11.0014</td><td>142612</td></tr>\n",
       "\t<tr><th scope=row>6</th><td>2011-01-20 05:00:00</td><td>1</td><td>0</td><td>1</td><td> 9.84</td><td>11.365</td><td>60</td><td>15.0013</td><td>142642</td></tr>\n",
       "</tbody>\n",
       "</table>\n"
      ],
      "text/latex": [
       "A data.frame: 6 × 9\n",
       "\\begin{tabular}{r|lllllllll}\n",
       "  & datetime & season & holiday & workingday & temp & atemp & humidity & windspeed & count\\\\\n",
       "  & <dttm> & <fct> & <int> & <int> & <dbl> & <dbl> & <int> & <dbl> & <int>\\\\\n",
       "\\hline\n",
       "\t1 & 2011-01-20 00:00:00 & 1 & 0 & 1 & 10.66 & 11.365 & 56 & 26.0027 & 141955\\\\\n",
       "\t2 & 2011-01-20 01:00:00 & 1 & 0 & 1 & 10.66 & 13.635 & 56 &  0.0000 & 142119\\\\\n",
       "\t3 & 2011-01-20 02:00:00 & 1 & 0 & 1 & 10.66 & 13.635 & 56 &  0.0000 & 142283\\\\\n",
       "\t4 & 2011-01-20 03:00:00 & 1 & 0 & 1 & 10.66 & 12.880 & 56 & 11.0014 & 142448\\\\\n",
       "\t5 & 2011-01-20 04:00:00 & 1 & 0 & 1 & 10.66 & 12.880 & 56 & 11.0014 & 142612\\\\\n",
       "\t6 & 2011-01-20 05:00:00 & 1 & 0 & 1 &  9.84 & 11.365 & 60 & 15.0013 & 142642\\\\\n",
       "\\end{tabular}\n"
      ],
      "text/markdown": [
       "\n",
       "A data.frame: 6 × 9\n",
       "\n",
       "| <!--/--> | datetime &lt;dttm&gt; | season &lt;fct&gt; | holiday &lt;int&gt; | workingday &lt;int&gt; | temp &lt;dbl&gt; | atemp &lt;dbl&gt; | humidity &lt;int&gt; | windspeed &lt;dbl&gt; | count &lt;int&gt; |\n",
       "|---|---|---|---|---|---|---|---|---|---|\n",
       "| 1 | 2011-01-20 00:00:00 | 1 | 0 | 1 | 10.66 | 11.365 | 56 | 26.0027 | 141955 |\n",
       "| 2 | 2011-01-20 01:00:00 | 1 | 0 | 1 | 10.66 | 13.635 | 56 |  0.0000 | 142119 |\n",
       "| 3 | 2011-01-20 02:00:00 | 1 | 0 | 1 | 10.66 | 13.635 | 56 |  0.0000 | 142283 |\n",
       "| 4 | 2011-01-20 03:00:00 | 1 | 0 | 1 | 10.66 | 12.880 | 56 | 11.0014 | 142448 |\n",
       "| 5 | 2011-01-20 04:00:00 | 1 | 0 | 1 | 10.66 | 12.880 | 56 | 11.0014 | 142612 |\n",
       "| 6 | 2011-01-20 05:00:00 | 1 | 0 | 1 |  9.84 | 11.365 | 60 | 15.0013 | 142642 |\n",
       "\n"
      ],
      "text/plain": [
       "  datetime            season holiday workingday temp  atemp  humidity windspeed\n",
       "1 2011-01-20 00:00:00 1      0       1          10.66 11.365 56       26.0027  \n",
       "2 2011-01-20 01:00:00 1      0       1          10.66 13.635 56        0.0000  \n",
       "3 2011-01-20 02:00:00 1      0       1          10.66 13.635 56        0.0000  \n",
       "4 2011-01-20 03:00:00 1      0       1          10.66 12.880 56       11.0014  \n",
       "5 2011-01-20 04:00:00 1      0       1          10.66 12.880 56       11.0014  \n",
       "6 2011-01-20 05:00:00 1      0       1           9.84 11.365 60       15.0013  \n",
       "  count \n",
       "1 141955\n",
       "2 142119\n",
       "3 142283\n",
       "4 142448\n",
       "5 142612\n",
       "6 142642"
      ]
     },
     "metadata": {},
     "output_type": "display_data"
    }
   ],
   "source": [
    "validacao = validacao[, names(validacao) %in% c(\"datetime\",\"season\",\"holiday\",\"workingday\",\"temp\",\"atemp\",\"humidity\",\"windspeed\",\"count\")]\n",
    "head(validacao)"
   ]
  },
  {
   "cell_type": "code",
   "execution_count": 44,
   "id": "5f26d7c8-e63e-46e5-aade-3ad262b06bda",
   "metadata": {},
   "outputs": [],
   "source": [
    "write.csv(validacao, file = 'teste_forum2.csv', row.names = FALSE)"
   ]
  }
 ],
 "metadata": {
  "kernelspec": {
   "display_name": "R",
   "language": "R",
   "name": "ir"
  },
  "language_info": {
   "codemirror_mode": "r",
   "file_extension": ".r",
   "mimetype": "text/x-r-source",
   "name": "R",
   "pygments_lexer": "r",
   "version": "4.3.2"
  }
 },
 "nbformat": 4,
 "nbformat_minor": 5
}
